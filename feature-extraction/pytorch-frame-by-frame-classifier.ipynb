{
 "cells": [
  {
   "cell_type": "code",
   "execution_count": 1,
   "metadata": {
    "colab": {},
    "colab_type": "code",
    "id": "sOigvIk47JER"
   },
   "outputs": [],
   "source": [
    "import warnings\n",
    "warnings.filterwarnings(\"ignore\")"
   ]
  },
  {
   "cell_type": "code",
   "execution_count": 4,
   "metadata": {
    "colab": {},
    "colab_type": "code",
    "id": "K0LUgTTo7JE-"
   },
   "outputs": [],
   "source": [
    "import torch\n",
    "import torch.nn as nn\n",
    "import torch.optim as optim\n",
    "import torch.nn.functional as F\n",
    "import torchvision\n",
    "from torchvision import datasets,transforms\n",
    "from torch.optim import lr_scheduler\n",
    "import torchvision.models as models\n",
    "import matplotlib.pyplot as plt\n",
    "import time\n",
    "import os\n",
    "import copy\n",
    "from torchsummary import summary\n",
    "from tqdm import tqdm\n",
    "import numpy as np"
   ]
  },
  {
   "cell_type": "code",
   "execution_count": 5,
   "metadata": {
    "colab": {},
    "colab_type": "code",
    "id": "muHi7ge77JFk"
   },
   "outputs": [],
   "source": [
    "#data_dir = \"D:\\\\RESEARCH\\\\ImageResearchData\\\\224Frames\\\\\""
   ]
  },
  {
   "cell_type": "code",
   "execution_count": 6,
   "metadata": {},
   "outputs": [],
   "source": [
    "device = torch.device(\"cuda\")"
   ]
  },
  {
   "cell_type": "code",
   "execution_count": 0,
   "metadata": {
    "colab": {},
    "colab_type": "code",
    "id": "aLSGAbU47RDO"
   },
   "outputs": [],
   "source": [
    "data_dir = \"gdrive/My Drive/PreProcessedDataPNP(Images-224*224)/224Frames/\""
   ]
  },
  {
   "cell_type": "code",
   "execution_count": 7,
   "metadata": {
    "colab": {
     "base_uri": "https://localhost:8080/",
     "height": 35
    },
    "colab_type": "code",
    "id": "sdyz__vX7JF_",
    "outputId": "d9aa67a2-96c1-4bcb-9a48-8467cd313e9f"
   },
   "outputs": [
    {
     "data": {
      "text/plain": [
       "device(type='cuda')"
      ]
     },
     "execution_count": 7,
     "metadata": {},
     "output_type": "execute_result"
    }
   ],
   "source": [
    "device= torch.device(\"cuda\" if torch.cuda.is_available() else \"cpu\")\n",
    "device"
   ]
  },
  {
   "cell_type": "code",
   "execution_count": 0,
   "metadata": {
    "colab": {},
    "colab_type": "code",
    "id": "FKLib-aX7nqG"
   },
   "outputs": [],
   "source": [
    "from google.colab import drive"
   ]
  },
  {
   "cell_type": "code",
   "execution_count": 0,
   "metadata": {
    "colab": {
     "base_uri": "https://localhost:8080/",
     "height": 129
    },
    "colab_type": "code",
    "id": "vgyAfvpO7rEr",
    "outputId": "f6d46682-a3bb-4a1a-ad49-54f56851cf1f"
   },
   "outputs": [
    {
     "name": "stdout",
     "output_type": "stream",
     "text": [
      "Go to this URL in a browser: https://accounts.google.com/o/oauth2/auth?client_id=947318989803-6bn6qk8qdgf4n4g3pfee6491hc0brc4i.apps.googleusercontent.com&redirect_uri=urn%3aietf%3awg%3aoauth%3a2.0%3aoob&response_type=code&scope=email%20https%3a%2f%2fwww.googleapis.com%2fauth%2fdocs.test%20https%3a%2f%2fwww.googleapis.com%2fauth%2fdrive%20https%3a%2f%2fwww.googleapis.com%2fauth%2fdrive.photos.readonly%20https%3a%2f%2fwww.googleapis.com%2fauth%2fpeopleapi.readonly\n",
      "\n",
      "Enter your authorization code:\n",
      "··········\n",
      "Mounted at gdrive\n"
     ]
    }
   ],
   "source": [
    "drive.mount(\"gdrive\")"
   ]
  },
  {
   "cell_type": "code",
   "execution_count": 5,
   "metadata": {
    "colab": {},
    "colab_type": "code",
    "id": "7DoA5JGm7JGc"
   },
   "outputs": [],
   "source": [
    "def imshow(img,title = None):\n",
    "    img = img.numpy().transpose((1,2,0))\n",
    "    mean = np.array([0.485, 0.456, 0.406])\n",
    "    std = np.array([0.229, 0.224, 0.225])\n",
    "    img = std*img +mean\n",
    "    img = np.clip(img,0,1)\n",
    "    plt.imshow(img)\n",
    "    \n",
    "    if title is not None:\n",
    "        plt.title(title)\n",
    "    plt.pause(0.001)    "
   ]
  },
  {
   "cell_type": "code",
   "execution_count": 6,
   "metadata": {
    "colab": {},
    "colab_type": "code",
    "id": "HWtj9OmJ7JG6"
   },
   "outputs": [],
   "source": [
    "#out = torchvision.utils.make_grid(inputs)\n",
    "#print(out.shape)\n",
    "#imshow(out,title=[class_names[x] for x in classes])"
   ]
  },
  {
   "cell_type": "code",
   "execution_count": 8,
   "metadata": {
    "colab": {},
    "colab_type": "code",
    "id": "IbTjMG6e7JHV"
   },
   "outputs": [],
   "source": [
    "class Network(nn.Module):\n",
    "    def __init__(self):\n",
    "        super(Network,self).__init__()\n",
    "        \n",
    "        self.resnet = models.resnet18(pretrained = True)\n",
    "        k = 1\n",
    "        for param in self.resnet.parameters():\n",
    "            k+=1\n",
    "            if k<56:\n",
    "                param.requires_grad = False\n",
    "        \n",
    "        self.dense1 = nn.Linear(in_features =1000,out_features = 512)\n",
    "        self.relu = nn.ReLU(inplace = True)\n",
    "        self.dense2 = nn.Linear(in_features = 512,out_features = 256)\n",
    "        self.dense3 = nn.Linear(in_features = 256,out_features = 64)\n",
    "        self.out = nn.Linear(in_features = 64,out_features = 2)\n",
    "        \n",
    "    def forward(self,x):\n",
    "        x = self.resnet(x)\n",
    "        x = self.relu(x)\n",
    "        x = self.dense1(x)\n",
    "        x = self.relu(x)\n",
    "        x = self.dense2(x)\n",
    "        x = self.relu(x)\n",
    "        x = self.dense3(x)\n",
    "        x = self.relu(x)\n",
    "        x = self.out(x)\n",
    "        return F.softmax(x)"
   ]
  },
  {
   "cell_type": "code",
   "execution_count": 9,
   "metadata": {
    "colab": {},
    "colab_type": "code",
    "id": "m8FQsfUF7JHm"
   },
   "outputs": [],
   "source": [
    "net = Network().to(device)"
   ]
  },
  {
   "cell_type": "code",
   "execution_count": 10,
   "metadata": {
    "colab": {},
    "colab_type": "code",
    "id": "DhAjfI117JH3"
   },
   "outputs": [],
   "source": [
    "class pnp:\n",
    "    def __init__(self,data_dir):\n",
    "        self.transforms = {\n",
    "            \"train\" : transforms.Compose([\n",
    "                transforms.Resize(224),\n",
    "                transforms.RandomHorizontalFlip(),\n",
    "                transforms.ColorJitter(),\n",
    "                transforms.ToTensor(),\n",
    "                transforms.Normalize([0.485, 0.456, 0.406], [0.229, 0.224, 0.225])\n",
    "            ]) ,\n",
    "            \"val\":transforms.Compose([\n",
    "                transforms.Resize(224),\n",
    "                transforms.ToTensor(),\n",
    "                transforms.Normalize([0.485, 0.456, 0.406], [0.229, 0.224, 0.225])\n",
    "            ]),\n",
    "            \"test\" : transforms.Compose([\n",
    "                transforms.Resize(224),\n",
    "                transforms.ToTensor(),\n",
    "                transforms.Normalize([0.485, 0.456, 0.406], [0.229, 0.224, 0.225])\n",
    "            ])\n",
    "        }\n",
    "        self.data_dir  = data_dir\n",
    "        self.batch_size= 32\n",
    "        self.images = {x :datasets.ImageFolder(os.path.join(self.data_dir,x),self.transforms[x]) for x in [\"train\",\"val\",\"test\"] }\n",
    "        self.dataloader = {x : torch.utils.data.DataLoader(self.images[x],batch_size = self.batch_size,shuffle = True) for x in [\"val\",\"train\",\"test\"]}\n",
    "        \n",
    "    def return_len(self,x):\n",
    "        return len(self.images[x])\n",
    "\n",
    "    def return_dataloader(self,x):\n",
    "        return self.dataloader\n",
    "    \n",
    "    def return_batches(self,x):\n",
    "        for i in range(0,len(self.images[x]),self.batch_size):\n",
    "            inputs,classes = next(iter(self.dataloader[x]))\n",
    "            yield(inputs,classes)\n",
    "        \n",
    "    def return_classes(self,x):\n",
    "        return self.images[x].classes\n",
    "    "
   ]
  },
  {
   "cell_type": "code",
   "execution_count": 11,
   "metadata": {
    "colab": {},
    "colab_type": "code",
    "id": "N8P3_nIo7JIM"
   },
   "outputs": [],
   "source": [
    "data_class = pnp(data_dir)"
   ]
  },
  {
   "cell_type": "code",
   "execution_count": 12,
   "metadata": {
    "colab": {},
    "colab_type": "code",
    "id": "n4ylKz7W7JIe"
   },
   "outputs": [],
   "source": [
    "optimizer = optim.Adam(net.parameters(),lr = 0.0005)\n",
    "criterion = nn.CrossEntropyLoss().to(device) "
   ]
  },
  {
   "cell_type": "code",
   "execution_count": 13,
   "metadata": {
    "colab": {},
    "colab_type": "code",
    "id": "yvf3mIsu7JI2"
   },
   "outputs": [],
   "source": [
    "def train(net):\n",
    "    for i in range(10):\n",
    "        epoch_loss = 0.0\n",
    "        epoch_total = 0.0\n",
    "        epoch_correct= 0.0\n",
    "        for data in  data_class.return_batches(\"train\"):\n",
    "            x,y = data[0].to(device),data[1].to(device)\n",
    "            net.zero_grad()\n",
    "            y_pred = net(x)\n",
    "            loss = criterion(y_pred,y)\n",
    "            loss.backward()\n",
    "            optimizer.step()\n",
    "            epoch_loss += loss.item()\n",
    "            y_pred = torch.argmax(y_pred,dim = 1)\n",
    "            epoch_total += y.shape[0]\n",
    "            epoch_correct += torch.sum(y_pred==y)\n",
    "        print(\"epoch {} : train_loss: {} || train_acc : {}\".format(i+1,epoch_loss,np.float(epoch_correct)/np.float(epoch_total)))  \n",
    "        \n",
    "        with torch.no_grad():\n",
    "            total = 0.0\n",
    "            correct = 0.0\n",
    "            val_loss = 0.0\n",
    "            for data in data_class.return_batches(\"val\"):\n",
    "                x_val,y_val = data[0].to(device),data[1].to(device)\n",
    "                y_val_p = net(x_val)\n",
    "                loss = criterion(y_val_p,y_val)\n",
    "                val_loss  +=loss\n",
    "                y_val_p = torch.argmax(y_val_p,dim = 1)\n",
    "                for k in range(y_val.shape[0]):\n",
    "                    if y_val_p[k]==y_val[k]:\n",
    "                        correct +=1\n",
    "                    total+=1\n",
    "            print(\"           validation_loss: {} || validation Accuracy :  {}\".format(val_loss,np.float(correct)/np.float(total)))\n",
    "            "
   ]
  },
  {
   "cell_type": "code",
   "execution_count": 0,
   "metadata": {
    "colab": {
     "base_uri": "https://localhost:8080/",
     "height": 386
    },
    "colab_type": "code",
    "id": "yWGzUgJAm87h",
    "outputId": "21abdc8e-c981-4611-9739-56480a4682eb"
   },
   "outputs": [
    {
     "name": "stdout",
     "output_type": "stream",
     "text": [
      "epoch 1 : train_loss: 132.60393843054771 || train_acc : 0.9517200272479565\n",
      "           validation_loss: 31.264284133911133 || validation Accuracy :  0.9173259493670886\n",
      "epoch 2 : train_loss: 133.9510181248188 || train_acc : 0.9463555858310627\n",
      "           validation_loss: 30.848690032958984 || validation Accuracy :  0.9200949367088608\n",
      "epoch 3 : train_loss: 129.43081039190292 || train_acc : 0.9592983651226158\n",
      "           validation_loss: 29.866281509399414 || validation Accuracy :  0.9311708860759493\n",
      "epoch 4 : train_loss: 129.84943780303 || train_acc : 0.9592983651226158\n",
      "           validation_loss: 31.01861572265625 || validation Accuracy :  0.9185126582278481\n",
      "epoch 5 : train_loss: 130.40284532308578 || train_acc : 0.9566587193460491\n",
      "           validation_loss: 30.461193084716797 || validation Accuracy :  0.9256329113924051\n",
      "epoch 6 : train_loss: 135.1108240187168 || train_acc : 0.9443119891008175\n",
      "           validation_loss: 30.604745864868164 || validation Accuracy :  0.9232594936708861\n",
      "epoch 7 : train_loss: 134.26248049736023 || train_acc : 0.9466110354223434\n",
      "           validation_loss: 32.01163864135742 || validation Accuracy :  0.9054588607594937\n",
      "epoch 8 : train_loss: 129.14217340946198 || train_acc : 0.9605756130790191\n",
      "           validation_loss: 29.83859634399414 || validation Accuracy :  0.9331487341772152\n",
      "epoch 9 : train_loss: 127.77407342195511 || train_acc : 0.964066757493188\n",
      "           validation_loss: 30.98243522644043 || validation Accuracy :  0.9196993670886076\n",
      "epoch 10 : train_loss: 128.7641562819481 || train_acc : 0.9621934604904632\n",
      "           validation_loss: 29.58323860168457 || validation Accuracy :  0.9386867088607594\n"
     ]
    }
   ],
   "source": [
    "train(net)"
   ]
  },
  {
   "cell_type": "code",
   "execution_count": 0,
   "metadata": {
    "colab": {
     "base_uri": "https://localhost:8080/",
     "height": 386
    },
    "colab_type": "code",
    "id": "6b7m-mWk7JKB",
    "outputId": "2d51f2fe-3a5d-4331-bd77-092d5cced226"
   },
   "outputs": [
    {
     "name": "stdout",
     "output_type": "stream",
     "text": [
      "epoch 1 : train_loss: 129.31429016590118 || train_acc : 0.9614271117166212\n",
      "           validation_loss: 31.050458908081055 || validation Accuracy :  0.9165348101265823\n",
      "epoch 2 : train_loss: 127.01828247308731 || train_acc : 0.9658549046321526\n",
      "           validation_loss: 29.268901824951172 || validation Accuracy :  0.9406645569620253\n",
      "epoch 3 : train_loss: 126.61440345644951 || train_acc : 0.9675579019073569\n",
      "           validation_loss: 29.609838485717773 || validation Accuracy :  0.9378955696202531\n",
      "epoch 4 : train_loss: 127.16640928387642 || train_acc : 0.9663658038147139\n",
      "           validation_loss: 29.6826171875 || validation Accuracy :  0.9347310126582279\n",
      "epoch 5 : train_loss: 127.4807520210743 || train_acc : 0.9657697547683923\n",
      "           validation_loss: 30.898324966430664 || validation Accuracy :  0.9216772151898734\n",
      "epoch 6 : train_loss: 130.52929559350014 || train_acc : 0.9567438692098093\n",
      "           validation_loss: 30.699899673461914 || validation Accuracy :  0.9204905063291139\n",
      "epoch 7 : train_loss: 126.11964690685272 || train_acc : 0.9691757493188011\n",
      "           validation_loss: 29.757909774780273 || validation Accuracy :  0.9367088607594937\n",
      "epoch 8 : train_loss: 125.60227248072624 || train_acc : 0.970708446866485\n",
      "           validation_loss: 30.09973907470703 || validation Accuracy :  0.9307753164556962\n",
      "epoch 9 : train_loss: 125.11864697933197 || train_acc : 0.9715599455040872\n",
      "           validation_loss: 29.832460403442383 || validation Accuracy :  0.9287974683544303\n",
      "epoch 10 : train_loss: 124.28015252947807 || train_acc : 0.9733480926430518\n",
      "           validation_loss: 29.273324966430664 || validation Accuracy :  0.9382911392405063\n"
     ]
    }
   ],
   "source": [
    "train(net)"
   ]
  },
  {
   "cell_type": "code",
   "execution_count": 0,
   "metadata": {
    "colab": {
     "base_uri": "https://localhost:8080/",
     "height": 386
    },
    "colab_type": "code",
    "id": "s9oTdUNm7JKP",
    "outputId": "0af0c00d-61b5-441f-dfea-cade76db77b9"
   },
   "outputs": [
    {
     "name": "stdout",
     "output_type": "stream",
     "text": [
      "epoch 1 : train_loss: 125.38224223256111 || train_acc : 0.971474795640327\n",
      "           validation_loss: 29.468971252441406 || validation Accuracy :  0.939873417721519\n",
      "epoch 2 : train_loss: 125.3520385324955 || train_acc : 0.9711341961852861\n",
      "           validation_loss: 29.114410400390625 || validation Accuracy :  0.9406645569620253\n",
      "epoch 3 : train_loss: 123.59041905403137 || train_acc : 0.9747104904632152\n",
      "           validation_loss: 28.626407623291016 || validation Accuracy :  0.9462025316455697\n",
      "epoch 4 : train_loss: 123.06207612156868 || train_acc : 0.9758174386920981\n",
      "           validation_loss: 29.4732608795166 || validation Accuracy :  0.9382911392405063\n",
      "epoch 5 : train_loss: 124.90065389871597 || train_acc : 0.9696866485013624\n",
      "           validation_loss: 29.61780548095703 || validation Accuracy :  0.932753164556962\n",
      "epoch 6 : train_loss: 125.06765258312225 || train_acc : 0.9704529972752044\n",
      "           validation_loss: 29.42667007446289 || validation Accuracy :  0.9367088607594937\n",
      "epoch 7 : train_loss: 124.72584402561188 || train_acc : 0.9711341961852861\n",
      "           validation_loss: 29.0660457611084 || validation Accuracy :  0.9402689873417721\n",
      "epoch 8 : train_loss: 123.83859875798225 || train_acc : 0.9750510899182562\n",
      "           validation_loss: 29.168865203857422 || validation Accuracy :  0.9426424050632911\n",
      "epoch 9 : train_loss: 123.41489008069038 || train_acc : 0.9760728882833788\n",
      "           validation_loss: 28.933177947998047 || validation Accuracy :  0.9434335443037974\n",
      "epoch 10 : train_loss: 123.23455163836479 || train_acc : 0.9765837874659401\n",
      "           validation_loss: 29.419771194458008 || validation Accuracy :  0.9371044303797469\n"
     ]
    }
   ],
   "source": [
    "train(net)"
   ]
  },
  {
   "cell_type": "code",
   "execution_count": 0,
   "metadata": {
    "colab": {
     "base_uri": "https://localhost:8080/",
     "height": 386
    },
    "colab_type": "code",
    "id": "KbccC2G77JKd",
    "outputId": "6dd2feb7-0b94-48ef-c42a-30a798252a30"
   },
   "outputs": [
    {
     "name": "stdout",
     "output_type": "stream",
     "text": [
      "epoch 1 : train_loss: 123.36188143491745 || train_acc : 0.9760728882833788\n",
      "           validation_loss: 29.36536979675293 || validation Accuracy :  0.9367088607594937\n",
      "epoch 2 : train_loss: 122.73053684830666 || train_acc : 0.9766689373297003\n",
      "           validation_loss: 28.85144805908203 || validation Accuracy :  0.9402689873417721\n",
      "epoch 3 : train_loss: 122.66485720872879 || train_acc : 0.9769243869209809\n",
      "           validation_loss: 28.791311264038086 || validation Accuracy :  0.9454113924050633\n",
      "epoch 4 : train_loss: 122.40000665187836 || train_acc : 0.9780313351498637\n",
      "           validation_loss: 28.842622756958008 || validation Accuracy :  0.9465981012658228\n",
      "epoch 5 : train_loss: 122.00772535800934 || train_acc : 0.9794788828337875\n",
      "           validation_loss: 29.057287216186523 || validation Accuracy :  0.9414556962025317\n",
      "epoch 6 : train_loss: 122.3106010556221 || train_acc : 0.9787125340599455\n",
      "           validation_loss: 28.07558822631836 || validation Accuracy :  0.9529272151898734\n",
      "epoch 7 : train_loss: 121.26314172148705 || train_acc : 0.9824591280653951\n",
      "           validation_loss: 28.91114616394043 || validation Accuracy :  0.9434335443037974\n",
      "epoch 8 : train_loss: 121.58878263831139 || train_acc : 0.9807561307901907\n",
      "           validation_loss: 29.002490997314453 || validation Accuracy :  0.9426424050632911\n",
      "epoch 9 : train_loss: 123.04658716917038 || train_acc : 0.9768392370572208\n",
      "           validation_loss: 29.674814224243164 || validation Accuracy :  0.9331487341772152\n",
      "epoch 10 : train_loss: 121.83607760071754 || train_acc : 0.9792234332425068\n",
      "           validation_loss: 29.431249618530273 || validation Accuracy :  0.9406645569620253\n"
     ]
    }
   ],
   "source": [
    "train(net)"
   ]
  },
  {
   "cell_type": "code",
   "execution_count": 0,
   "metadata": {
    "colab": {
     "base_uri": "https://localhost:8080/",
     "height": 386
    },
    "colab_type": "code",
    "id": "FDoEgecx7JKq",
    "outputId": "065a242d-2f4e-4b69-e51e-6e04013690d6"
   },
   "outputs": [
    {
     "name": "stdout",
     "output_type": "stream",
     "text": [
      "epoch 1 : train_loss: 121.18247345089912 || train_acc : 0.9822036784741145\n",
      "           validation_loss: 28.96276092529297 || validation Accuracy :  0.9465981012658228\n",
      "epoch 2 : train_loss: 121.61397725343704 || train_acc : 0.9815224795640327\n",
      "           validation_loss: 29.443256378173828 || validation Accuracy :  0.9371044303797469\n",
      "epoch 3 : train_loss: 121.56456005573273 || train_acc : 0.9811818801089919\n",
      "           validation_loss: 28.29401969909668 || validation Accuracy :  0.9517405063291139\n",
      "epoch 4 : train_loss: 122.3440505862236 || train_acc : 0.9782016348773842\n",
      "           validation_loss: 28.662797927856445 || validation Accuracy :  0.9473892405063291\n",
      "epoch 5 : train_loss: 120.8685193657875 || train_acc : 0.9825442779291553\n",
      "           validation_loss: 29.511648178100586 || validation Accuracy :  0.9339398734177216\n",
      "epoch 6 : train_loss: 122.08729666471481 || train_acc : 0.9779461852861036\n",
      "           validation_loss: 29.442386627197266 || validation Accuracy :  0.9371044303797469\n",
      "epoch 7 : train_loss: 122.90229830145836 || train_acc : 0.978116485013624\n",
      "           validation_loss: 31.031713485717773 || validation Accuracy :  0.9200949367088608\n",
      "epoch 8 : train_loss: 130.2721530497074 || train_acc : 0.9577656675749319\n",
      "           validation_loss: 29.539941787719727 || validation Accuracy :  0.9375\n",
      "epoch 9 : train_loss: 122.67513051629066 || train_acc : 0.9778610354223434\n",
      "           validation_loss: 29.720020294189453 || validation Accuracy :  0.9339398734177216\n",
      "epoch 10 : train_loss: 122.21631371974945 || train_acc : 0.9798194822888283\n",
      "           validation_loss: 29.18130874633789 || validation Accuracy :  0.9406645569620253\n"
     ]
    }
   ],
   "source": [
    "train(net)"
   ]
  },
  {
   "cell_type": "code",
   "execution_count": 0,
   "metadata": {
    "colab": {},
    "colab_type": "code",
    "id": "XjSTEQm4p74t"
   },
   "outputs": [],
   "source": [
    "dictionary = {\"model\" : net, \"model_dict\":net.state_dict(),\"optim_dict\":optimizer.state_dict(),\"epoch\":70} "
   ]
  },
  {
   "cell_type": "code",
   "execution_count": 0,
   "metadata": {
    "colab": {},
    "colab_type": "code",
    "id": "Of0gMmVypukW"
   },
   "outputs": [],
   "source": [
    "torch.save(dictionary,\"gdrive/My Drive/SupportingFiles/pytorch_image_modelling_70.pt\")"
   ]
  },
  {
   "cell_type": "code",
   "execution_count": 0,
   "metadata": {
    "colab": {},
    "colab_type": "code",
    "id": "kRsXyP6N4pXe"
   },
   "outputs": [],
   "source": []
  }
 ],
 "metadata": {
  "accelerator": "GPU",
  "colab": {
   "collapsed_sections": [],
   "name": "pytorch-image-modelling.ipynb",
   "provenance": []
  },
  "kernelspec": {
   "display_name": "Python 3",
   "language": "python",
   "name": "python3"
  },
  "language_info": {
   "codemirror_mode": {
    "name": "ipython",
    "version": 3
   },
   "file_extension": ".py",
   "mimetype": "text/x-python",
   "name": "python",
   "nbconvert_exporter": "python",
   "pygments_lexer": "ipython3",
   "version": "3.7.6"
  }
 },
 "nbformat": 4,
 "nbformat_minor": 1
}
